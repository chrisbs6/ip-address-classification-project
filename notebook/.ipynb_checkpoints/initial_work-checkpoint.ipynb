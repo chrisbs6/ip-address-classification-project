{
 "cells": [
  {
   "cell_type": "code",
   "execution_count": 31,
   "id": "fa368f62-c188-4290-9f3b-e09490c4777e",
   "metadata": {},
   "outputs": [],
   "source": [
    "import warnings\n",
    "import ipaddress\n",
    "import numpy as np\n",
    "import pandas as pd\n",
    "import seaborn as sns\n",
    "import matplotlib.pyplot as plt\n",
    "from tqdm import tqdm\n",
    "from functools import partial\n",
    "from sklearn.cluster import KMeans\n",
    "from sklearn.decomposition import PCA\n",
    "from sklearn.preprocessing import StandardScaler"
   ]
  },
  {
   "cell_type": "code",
   "execution_count": 17,
   "id": "6b53e399-d9ea-46bd-966c-763f3ae75815",
   "metadata": {},
   "outputs": [],
   "source": [
    "warnings.filterwarnings(\"ignore\", category=FutureWarning)"
   ]
  },
  {
   "cell_type": "code",
   "execution_count": 18,
   "id": "cd3034ed-7686-427d-b383-bb140fe01a92",
   "metadata": {},
   "outputs": [],
   "source": [
    "tqdm.pandas()"
   ]
  },
  {
   "cell_type": "markdown",
   "id": "464c6c3d-b61a-4b47-bf57-f2aa6a331b8a",
   "metadata": {},
   "source": [
    "## 1. Preprocessing the Data"
   ]
  },
  {
   "cell_type": "code",
   "execution_count": 3,
   "id": "13855824-0542-4a0b-b86d-a75c9363a9bd",
   "metadata": {},
   "outputs": [],
   "source": [
    "df_2013 = pd.read_csv('df_2013.csv', index_col=0)\n",
    "df_2013['real_time_2013'] = pd.to_datetime(df_2013['real_time_2013'])\n",
    "df_2013 = df_2013.sort_values('real_time_2013')\n",
    "df_2013['is_up'] = (df_2013['reply_type_label_2013'] == 'responsive').astype(int)"
   ]
  },
  {
   "cell_type": "code",
   "execution_count": 4,
   "id": "d81fafcc-b115-4a20-8855-92a84ddaf10d",
   "metadata": {},
   "outputs": [],
   "source": [
    "df_2023 = pd.read_csv('df_2023.csv', index_col=0)\n",
    "df_2023['real_time_2023'] = pd.to_datetime(df_2023['real_time_2023'])\n",
    "df_2023 = df_2023.sort_values('real_time_2023')\n",
    "df_2023['is_up'] = (df_2023['reply_type_label_2023'] == 'responsive').astype(int)"
   ]
  },
  {
   "cell_type": "code",
   "execution_count": 5,
   "id": "d1b590f8-f3c6-49bf-a00e-4748fdc795fb",
   "metadata": {},
   "outputs": [
    {
     "data": {
      "text/html": [
       "<div>\n",
       "<style scoped>\n",
       "    .dataframe tbody tr th:only-of-type {\n",
       "        vertical-align: middle;\n",
       "    }\n",
       "\n",
       "    .dataframe tbody tr th {\n",
       "        vertical-align: top;\n",
       "    }\n",
       "\n",
       "    .dataframe thead th {\n",
       "        text-align: right;\n",
       "    }\n",
       "</style>\n",
       "<table border=\"1\" class=\"dataframe\">\n",
       "  <thead>\n",
       "    <tr style=\"text-align: right;\">\n",
       "      <th></th>\n",
       "      <th>reply_type_2013</th>\n",
       "      <th>time_s_2013</th>\n",
       "      <th>rtt_us_2013</th>\n",
       "      <th>ttl_2013</th>\n",
       "      <th>probe_addr_2013</th>\n",
       "      <th>reply_addr_2013</th>\n",
       "      <th>same_ip_2013</th>\n",
       "      <th>reply_type_label_2013</th>\n",
       "      <th>hop_count_2013</th>\n",
       "      <th>real_time_2013</th>\n",
       "      <th>is_up</th>\n",
       "    </tr>\n",
       "  </thead>\n",
       "  <tbody>\n",
       "    <tr>\n",
       "      <th>2</th>\n",
       "      <td>0x0800</td>\n",
       "      <td>1.385587e+09</td>\n",
       "      <td>0.000</td>\n",
       "      <td>0.0</td>\n",
       "      <td>128.72.108.50</td>\n",
       "      <td>--------</td>\n",
       "      <td>False</td>\n",
       "      <td>no_response</td>\n",
       "      <td>NaN</td>\n",
       "      <td>2013-11-27 21:16:54</td>\n",
       "      <td>0</td>\n",
       "    </tr>\n",
       "    <tr>\n",
       "      <th>4</th>\n",
       "      <td>0x0800</td>\n",
       "      <td>1.385587e+09</td>\n",
       "      <td>0.000</td>\n",
       "      <td>0.0</td>\n",
       "      <td>128.240.212.50</td>\n",
       "      <td>--------</td>\n",
       "      <td>False</td>\n",
       "      <td>no_response</td>\n",
       "      <td>NaN</td>\n",
       "      <td>2013-11-27 21:16:54</td>\n",
       "      <td>0</td>\n",
       "    </tr>\n",
       "    <tr>\n",
       "      <th>5</th>\n",
       "      <td>0x0800</td>\n",
       "      <td>1.385587e+09</td>\n",
       "      <td>0.000</td>\n",
       "      <td>0.0</td>\n",
       "      <td>128.152.188.50</td>\n",
       "      <td>--------</td>\n",
       "      <td>False</td>\n",
       "      <td>no_response</td>\n",
       "      <td>NaN</td>\n",
       "      <td>2013-11-27 21:16:55</td>\n",
       "      <td>0</td>\n",
       "    </tr>\n",
       "    <tr>\n",
       "      <th>6</th>\n",
       "      <td>0x0800</td>\n",
       "      <td>1.385587e+09</td>\n",
       "      <td>0.000</td>\n",
       "      <td>0.0</td>\n",
       "      <td>128.8.44.50</td>\n",
       "      <td>--------</td>\n",
       "      <td>False</td>\n",
       "      <td>no_response</td>\n",
       "      <td>NaN</td>\n",
       "      <td>2013-11-27 21:16:55</td>\n",
       "      <td>0</td>\n",
       "    </tr>\n",
       "    <tr>\n",
       "      <th>7</th>\n",
       "      <td>0x0800</td>\n",
       "      <td>1.385587e+09</td>\n",
       "      <td>0.000</td>\n",
       "      <td>0.0</td>\n",
       "      <td>128.224.196.50</td>\n",
       "      <td>--------</td>\n",
       "      <td>False</td>\n",
       "      <td>no_response</td>\n",
       "      <td>NaN</td>\n",
       "      <td>2013-11-27 21:16:55</td>\n",
       "      <td>0</td>\n",
       "    </tr>\n",
       "    <tr>\n",
       "      <th>...</th>\n",
       "      <td>...</td>\n",
       "      <td>...</td>\n",
       "      <td>...</td>\n",
       "      <td>...</td>\n",
       "      <td>...</td>\n",
       "      <td>...</td>\n",
       "      <td>...</td>\n",
       "      <td>...</td>\n",
       "      <td>...</td>\n",
       "      <td>...</td>\n",
       "      <td>...</td>\n",
       "    </tr>\n",
       "    <tr>\n",
       "      <th>16860431</th>\n",
       "      <td>0x0000</td>\n",
       "      <td>1.388370e+09</td>\n",
       "      <td>78.327</td>\n",
       "      <td>111.0</td>\n",
       "      <td>128.143.84.50</td>\n",
       "      <td>128.143.84.50</td>\n",
       "      <td>True</td>\n",
       "      <td>responsive</td>\n",
       "      <td>17.0</td>\n",
       "      <td>2013-12-30 02:13:57</td>\n",
       "      <td>1</td>\n",
       "    </tr>\n",
       "    <tr>\n",
       "      <th>16860432</th>\n",
       "      <td>0x0000</td>\n",
       "      <td>1.388370e+09</td>\n",
       "      <td>171.026</td>\n",
       "      <td>50.0</td>\n",
       "      <td>128.79.148.50</td>\n",
       "      <td>128.79.148.50</td>\n",
       "      <td>True</td>\n",
       "      <td>responsive</td>\n",
       "      <td>205.0</td>\n",
       "      <td>2013-12-30 02:13:57</td>\n",
       "      <td>1</td>\n",
       "    </tr>\n",
       "    <tr>\n",
       "      <th>16860438</th>\n",
       "      <td>0x0000</td>\n",
       "      <td>1.388370e+09</td>\n",
       "      <td>63.997</td>\n",
       "      <td>55.0</td>\n",
       "      <td>128.255.36.50</td>\n",
       "      <td>128.255.36.50</td>\n",
       "      <td>True</td>\n",
       "      <td>responsive</td>\n",
       "      <td>200.0</td>\n",
       "      <td>2013-12-30 02:13:58</td>\n",
       "      <td>1</td>\n",
       "    </tr>\n",
       "    <tr>\n",
       "      <th>16860437</th>\n",
       "      <td>0x0000</td>\n",
       "      <td>1.388370e+09</td>\n",
       "      <td>163.530</td>\n",
       "      <td>46.0</td>\n",
       "      <td>128.127.164.50</td>\n",
       "      <td>128.127.164.50</td>\n",
       "      <td>True</td>\n",
       "      <td>responsive</td>\n",
       "      <td>209.0</td>\n",
       "      <td>2013-12-30 02:13:58</td>\n",
       "      <td>1</td>\n",
       "    </tr>\n",
       "    <tr>\n",
       "      <th>16860453</th>\n",
       "      <td>0x0000</td>\n",
       "      <td>1.388370e+09</td>\n",
       "      <td>73.147</td>\n",
       "      <td>114.0</td>\n",
       "      <td>128.183.108.50</td>\n",
       "      <td>128.183.108.50</td>\n",
       "      <td>True</td>\n",
       "      <td>responsive</td>\n",
       "      <td>14.0</td>\n",
       "      <td>2013-12-30 02:14:00</td>\n",
       "      <td>1</td>\n",
       "    </tr>\n",
       "  </tbody>\n",
       "</table>\n",
       "<p>16860459 rows × 11 columns</p>\n",
       "</div>"
      ],
      "text/plain": [
       "         reply_type_2013   time_s_2013  rtt_us_2013  ttl_2013 probe_addr_2013  \\\n",
       "2                 0x0800  1.385587e+09        0.000       0.0   128.72.108.50   \n",
       "4                 0x0800  1.385587e+09        0.000       0.0  128.240.212.50   \n",
       "5                 0x0800  1.385587e+09        0.000       0.0  128.152.188.50   \n",
       "6                 0x0800  1.385587e+09        0.000       0.0     128.8.44.50   \n",
       "7                 0x0800  1.385587e+09        0.000       0.0  128.224.196.50   \n",
       "...                  ...           ...          ...       ...             ...   \n",
       "16860431          0x0000  1.388370e+09       78.327     111.0   128.143.84.50   \n",
       "16860432          0x0000  1.388370e+09      171.026      50.0   128.79.148.50   \n",
       "16860438          0x0000  1.388370e+09       63.997      55.0   128.255.36.50   \n",
       "16860437          0x0000  1.388370e+09      163.530      46.0  128.127.164.50   \n",
       "16860453          0x0000  1.388370e+09       73.147     114.0  128.183.108.50   \n",
       "\n",
       "         reply_addr_2013  same_ip_2013 reply_type_label_2013  hop_count_2013  \\\n",
       "2               --------         False           no_response             NaN   \n",
       "4               --------         False           no_response             NaN   \n",
       "5               --------         False           no_response             NaN   \n",
       "6               --------         False           no_response             NaN   \n",
       "7               --------         False           no_response             NaN   \n",
       "...                  ...           ...                   ...             ...   \n",
       "16860431   128.143.84.50          True            responsive            17.0   \n",
       "16860432   128.79.148.50          True            responsive           205.0   \n",
       "16860438   128.255.36.50          True            responsive           200.0   \n",
       "16860437  128.127.164.50          True            responsive           209.0   \n",
       "16860453  128.183.108.50          True            responsive            14.0   \n",
       "\n",
       "              real_time_2013  is_up  \n",
       "2        2013-11-27 21:16:54      0  \n",
       "4        2013-11-27 21:16:54      0  \n",
       "5        2013-11-27 21:16:55      0  \n",
       "6        2013-11-27 21:16:55      0  \n",
       "7        2013-11-27 21:16:55      0  \n",
       "...                      ...    ...  \n",
       "16860431 2013-12-30 02:13:57      1  \n",
       "16860432 2013-12-30 02:13:57      1  \n",
       "16860438 2013-12-30 02:13:58      1  \n",
       "16860437 2013-12-30 02:13:58      1  \n",
       "16860453 2013-12-30 02:14:00      1  \n",
       "\n",
       "[16860459 rows x 11 columns]"
      ]
     },
     "execution_count": 5,
     "metadata": {},
     "output_type": "execute_result"
    }
   ],
   "source": [
    "df_2013"
   ]
  },
  {
   "cell_type": "markdown",
   "id": "dd36e7f3-a669-41bf-a198-510f0ea29c42",
   "metadata": {},
   "source": [
    "## 2. Extracting Per-Address Metrics"
   ]
  },
  {
   "cell_type": "code",
   "execution_count": 19,
   "id": "d0958a2c-c142-4854-b2b3-155063c6ee4b",
   "metadata": {},
   "outputs": [],
   "source": [
    "def compute_metrics_generic(group, time_col):\n",
    "    group = group.sort_values(time_col)\n",
    "    times = group[time_col].dt.to_pydatetime().tolist()\n",
    "    is_up = group['is_up'].values\n",
    "    \n",
    "    # 1. Availability\n",
    "    availability = is_up.mean()\n",
    "    \n",
    "    # 2. Volatility\n",
    "    up_transitions = 0\n",
    "    if len(is_up) > 0:\n",
    "        if is_up[0] == 1:\n",
    "            up_transitions += 1\n",
    "        up_transitions += ((is_up[1:] == 1) & (is_up[:-1] == 0)).sum()\n",
    "    \n",
    "    # 3. Median Up Time\n",
    "    up_periods = []\n",
    "    current_start = None\n",
    "    for i, flag in enumerate(is_up):\n",
    "        if flag == 1 and current_start is None:\n",
    "            current_start = times[i]\n",
    "        elif flag == 0 and current_start is not None:\n",
    "            end_time = times[i - 1]\n",
    "            duration = (end_time - current_start).total_seconds()\n",
    "            up_periods.append(duration)\n",
    "            current_start = None\n",
    "    if current_start is not None:\n",
    "        duration = (times[-1] - current_start).total_seconds()\n",
    "        up_periods.append(duration)\n",
    "    \n",
    "    median_up = np.median(up_periods) if up_periods else 0\n",
    "    \n",
    "    return pd.Series({\n",
    "        'availability': availability,\n",
    "        'volatility': up_transitions,\n",
    "        'median_up': median_up\n",
    "    })"
   ]
  },
  {
   "cell_type": "code",
   "execution_count": 20,
   "id": "e44bfaf8-476f-45e0-8714-03408a0e1a14",
   "metadata": {},
   "outputs": [],
   "source": [
    "compute_metrics_2013 = partial(compute_metrics_generic, time_col='real_time_2013')\n",
    "compute_metrics_2023 = partial(compute_metrics_generic, time_col='real_time_2023')"
   ]
  },
  {
   "cell_type": "markdown",
   "id": "20dae155-3e94-4b25-be6e-f059b71fd648",
   "metadata": {},
   "source": [
    "### 2013"
   ]
  },
  {
   "cell_type": "code",
   "execution_count": 21,
   "id": "90f3c14d-e4f7-4af8-99e1-f7ccdf7e87e5",
   "metadata": {},
   "outputs": [
    {
     "name": "stderr",
     "output_type": "stream",
     "text": [
      "100%|█████████████████████████████████████████████████████████████████████████████████████████████████████████████████████████████████████████████████████████████████| 16711653/16711653 [1:05:46<00:00, 4234.86it/s]\n"
     ]
    },
    {
     "name": "stdout",
     "output_type": "stream",
     "text": [
      "  probe_addr_2013  availability  volatility  median_up\n",
      "0       128.0.0.0           0.0         0.0        0.0\n",
      "1       128.0.0.1           0.0         0.0        0.0\n",
      "2      128.0.0.10           0.0         0.0        0.0\n",
      "3     128.0.0.100           0.0         0.0        0.0\n",
      "4     128.0.0.101           0.0         0.0        0.0\n"
     ]
    }
   ],
   "source": [
    "metrics_2013 = df_2013.groupby('probe_addr_2013').progress_apply(compute_metrics_2013).reset_index()\n",
    "print(metrics_2013.head())"
   ]
  },
  {
   "cell_type": "markdown",
   "id": "6006afc6-e35b-4c38-81db-71fad268350e",
   "metadata": {},
   "source": [
    "### 2023"
   ]
  },
  {
   "cell_type": "code",
   "execution_count": 22,
   "id": "872ea8bc-0e13-46a0-a6ab-9837d2b43925",
   "metadata": {},
   "outputs": [
    {
     "name": "stderr",
     "output_type": "stream",
     "text": [
      "100%|█████████████████████████████████████████████████████████████████████████████████████████████████████████████████████████████████████████████████████████████████| 16777214/16777214 [1:41:48<00:00, 2746.69it/s]\n"
     ]
    },
    {
     "name": "stdout",
     "output_type": "stream",
     "text": [
      "  probe_addr_2023  availability  volatility  median_up\n",
      "0       128.0.0.0           0.0         0.0        0.0\n",
      "1       128.0.0.1           0.0         0.0        0.0\n",
      "2      128.0.0.10           0.0         0.0        0.0\n",
      "3     128.0.0.100           0.0         0.0        0.0\n",
      "4     128.0.0.101           0.0         0.0        0.0\n"
     ]
    }
   ],
   "source": [
    "metrics_2023 = df_2023.groupby('probe_addr_2023').progress_apply(compute_metrics_2023).reset_index()\n",
    "print(metrics_2023.head())"
   ]
  },
  {
   "cell_type": "markdown",
   "id": "ecdf2593-6b0f-4b6e-bae6-fca3e09c1099",
   "metadata": {},
   "source": [
    "### Getting the csv"
   ]
  },
  {
   "cell_type": "code",
   "execution_count": 23,
   "id": "43a43498-b8fd-46f1-ad22-c94d64fd7b88",
   "metadata": {},
   "outputs": [],
   "source": [
    "metrics_2013.to_csv('metrics_2013.csv', index=False)\n",
    "metrics_2023.to_csv('metrics_2023.csv', index=False)"
   ]
  },
  {
   "cell_type": "markdown",
   "id": "69d98dd4-700e-4986-8903-3d26b806ce60",
   "metadata": {},
   "source": [
    "## 3. Grouping Addresses into Blocks"
   ]
  },
  {
   "cell_type": "code",
   "execution_count": 88,
   "id": "e81f5670-d448-4be9-aac0-7358ffb9e466",
   "metadata": {},
   "outputs": [],
   "source": [
    "def extract_block(ip):\n",
    "    return '.'.join(ip.split('.')[:3])"
   ]
  },
  {
   "cell_type": "markdown",
   "id": "77c0172c-6bab-49a4-96eb-016798fff225",
   "metadata": {},
   "source": [
    "### 2013"
   ]
  },
  {
   "cell_type": "code",
   "execution_count": 119,
   "id": "e8e316b4-d2eb-4402-b3d2-31a0ed37f3a9",
   "metadata": {},
   "outputs": [],
   "source": [
    "metrics_2013 = pd.read_csv('metrics_2013.csv')"
   ]
  },
  {
   "cell_type": "code",
   "execution_count": 120,
   "id": "40590274-7b13-4507-b413-e6def093911e",
   "metadata": {},
   "outputs": [],
   "source": [
    "metrics_2013['block_24'] = metrics_2013['probe_addr_2013'].apply(extract_block)"
   ]
  },
  {
   "cell_type": "code",
   "execution_count": 121,
   "id": "f50b0062-bd4f-4457-b2c2-21c0ae6bb07a",
   "metadata": {},
   "outputs": [],
   "source": [
    "block_metrics_2013 = metrics_2013.groupby('block_24').agg({\n",
    "    'availability': 'median',\n",
    "    'volatility': 'median',\n",
    "    'median_up': 'median'\n",
    "}).reset_index()"
   ]
  },
  {
   "cell_type": "code",
   "execution_count": 122,
   "id": "62228d5f-0dfb-44c9-ab0b-ac1a1b399605",
   "metadata": {},
   "outputs": [
    {
     "name": "stdout",
     "output_type": "stream",
     "text": [
      "2013 /24 block metrics:\n",
      "    block_24  availability  volatility  median_up\n",
      "0    128.0.0           0.0         0.0        0.0\n",
      "1    128.0.1           0.0         0.0        0.0\n",
      "2   128.0.10           0.0         0.0        0.0\n",
      "3  128.0.100           0.0         0.0        0.0\n",
      "4  128.0.101           0.0         0.0        0.0\n"
     ]
    }
   ],
   "source": [
    "print(\"2013 /24 block metrics:\")\n",
    "print(block_metrics_2013.head())"
   ]
  },
  {
   "cell_type": "markdown",
   "id": "f42b53e1-d6bb-4b2d-a0f2-ebb965b5fe8a",
   "metadata": {},
   "source": [
    "### 2023"
   ]
  },
  {
   "cell_type": "code",
   "execution_count": 115,
   "id": "32520e42-4ce8-4767-b8e2-8b44883c32c6",
   "metadata": {},
   "outputs": [],
   "source": [
    "metrics_2023 = pd.read_csv('metrics_2023.csv')"
   ]
  },
  {
   "cell_type": "code",
   "execution_count": 116,
   "id": "0f1f1351-56af-4a24-8353-0f9fdda3640b",
   "metadata": {},
   "outputs": [],
   "source": [
    "metrics_2023['block_24'] = metrics_2023['probe_addr_2023'].apply(extract_block)"
   ]
  },
  {
   "cell_type": "code",
   "execution_count": 117,
   "id": "89fa3c36-7fa2-4935-ac1c-5978546bb2c7",
   "metadata": {},
   "outputs": [],
   "source": [
    "block_metrics_2023 = metrics_2023.groupby('block_24').agg({\n",
    "    'availability': 'median',\n",
    "    'volatility': 'median',\n",
    "    'median_up': 'median'\n",
    "}).reset_index()"
   ]
  },
  {
   "cell_type": "code",
   "execution_count": 118,
   "id": "d1796da4-5ec2-44a0-8407-8a014e10d3d6",
   "metadata": {},
   "outputs": [
    {
     "name": "stdout",
     "output_type": "stream",
     "text": [
      "2023 /24 block metrics:\n",
      "    block_24  availability  volatility  median_up\n",
      "0    128.0.0      0.000000         0.0        0.0\n",
      "1    128.0.1      0.035156         0.0        0.0\n",
      "2   128.0.10      0.597656         1.0        0.0\n",
      "3  128.0.100      0.000000         0.0        0.0\n",
      "4  128.0.101      0.000000         0.0        0.0\n"
     ]
    }
   ],
   "source": [
    "print(\"2023 /24 block metrics:\")\n",
    "print(block_metrics_2023.head())"
   ]
  },
  {
   "cell_type": "markdown",
   "id": "a3fd78c7-9735-4938-b57c-b08d9e23a4e8",
   "metadata": {},
   "source": [
    "## 4. Block-Level Clustering (BlockSizeId)"
   ]
  },
  {
   "cell_type": "code",
   "execution_count": 97,
   "id": "2df2acab-f954-4589-b264-e3644fb2bf84",
   "metadata": {},
   "outputs": [],
   "source": [
    "def ip_to_int(ip_str):\n",
    "    return int(ipaddress.IPv4Address(ip_str))\n",
    "\n",
    "def block_size_id(df, current_prefix, epsilon=2.0):\n",
    "    df = df.copy()\n",
    "    df['ip_int'] = df['probe_addr'].apply(ip_to_int)\n",
    "    df = df.sort_values('ip_int')\n",
    "    \n",
    "    overall_var = df[['availability', 'volatility', 'median_up']].var().sum()\n",
    "    \n",
    "    best_prefix = current_prefix\n",
    "    best_var_sum = overall_var\n",
    "    \n",
    "    for p in range(current_prefix + 1, 33):\n",
    "        sub_block_size = 2 ** (32 - p)\n",
    "        base = df['ip_int'].min()\n",
    "        df['sub_block'] = ((df['ip_int'] - base) // sub_block_size)\n",
    "        \n",
    "        var_sum = 0\n",
    "        for _, group in df.groupby('sub_block'):\n",
    "            var_sum += group[['availability', 'volatility', 'median_up']].var().sum()\n",
    "        \n",
    "        if best_var_sum - var_sum < epsilon:\n",
    "            break\n",
    "        else:\n",
    "            best_var_sum = var_sum\n",
    "            best_prefix = p\n",
    "\n",
    "    if best_prefix == current_prefix:\n",
    "        return [df]\n",
    "    else:\n",
    "        sub_block_size = 2 ** (32 - best_prefix)\n",
    "        base = df['ip_int'].min()\n",
    "        df['sub_block'] = ((df['ip_int'] - base) // sub_block_size)\n",
    "        \n",
    "        consistent_blocks = []\n",
    "        for _, group in df.groupby('sub_block'):\n",
    "            consistent_blocks.extend(block_size_id(group.copy(), best_prefix + 1, epsilon))\n",
    "        return consistent_blocks"
   ]
  },
  {
   "cell_type": "code",
   "execution_count": 98,
   "id": "4c063b7e-969a-44e6-9256-c770f686560a",
   "metadata": {},
   "outputs": [],
   "source": [
    "def process_all_blocks(metrics_df, ip_col, block_col='block_24', initial_prefix=24, epsilon=2.0):\n",
    "    consistent_blocks_all = []\n",
    "    unique_blocks = metrics_df[block_col].unique()\n",
    "    \n",
    "    for block_id in tqdm(unique_blocks, desc=\"Processing /24 blocks\"):\n",
    "        group = metrics_df[metrics_df[block_col] == block_id]\n",
    "        sub_df = group.copy()\n",
    "        sub_df = sub_df.rename(columns={ip_col: 'probe_addr'})\n",
    "        consistent_blocks = block_size_id(sub_df, current_prefix=initial_prefix, epsilon=epsilon)\n",
    "        for block in consistent_blocks:\n",
    "            block_size = block.shape[0]\n",
    "            block['final_block_size'] = block_size\n",
    "            block['original_block'] = block_id\n",
    "            consistent_blocks_all.append(block)\n",
    "            \n",
    "    return pd.concat(consistent_blocks_all, ignore_index=True)"
   ]
  },
  {
   "cell_type": "markdown",
   "id": "cd2ab64b-5df7-4288-abda-3da2485e7f79",
   "metadata": {},
   "source": [
    "### 2013"
   ]
  },
  {
   "cell_type": "code",
   "execution_count": null,
   "id": "63b6a49a-8aac-4ea5-bc3e-48a2b1f131f8",
   "metadata": {},
   "outputs": [],
   "source": [
    "block_metrics_2013 = process_all_blocks(metrics_2013, ip_col='probe_addr_2013', block_col='block_24', initial_prefix=24, epsilon=2.0)\n",
    "print(\"Processed consistent blocks for 2013:\")\n",
    "print(block_metrics_2013[['probe_addr', 'availability', 'median_RTT_us', 'original_block', 'final_block_size']].head())"
   ]
  },
  {
   "cell_type": "code",
   "execution_count": 38,
   "id": "7c14c74f-e807-4a5b-a57a-f8e4e40ffb25",
   "metadata": {},
   "outputs": [],
   "source": [
    "block_metrics_2013.to_csv('block_metrics_2013_new.csv', index=False)"
   ]
  },
  {
   "cell_type": "markdown",
   "id": "d9a3eea6-da72-4837-a294-7411e8985436",
   "metadata": {},
   "source": [
    "### 2023"
   ]
  },
  {
   "cell_type": "code",
   "execution_count": 39,
   "id": "eea1a9f7-f88c-4bbe-845d-9ca761218275",
   "metadata": {},
   "outputs": [
    {
     "name": "stderr",
     "output_type": "stream",
     "text": [
      "Processing /24 blocks: 100%|██████████████████████████████████████████████████████████████████████████████████████████████████████████████████████████████████████████████████| 65536/65536 [8:08:13<00:00,  2.24it/s]\n"
     ]
    },
    {
     "name": "stdout",
     "output_type": "stream",
     "text": [
      "Processed consistent blocks for 2023:\n",
      "  probe_addr  availability  volatility  median_up original_block  \\\n",
      "0  128.0.0.0           0.0         0.0        0.0        128.0.0   \n",
      "1  128.0.0.1           0.0         0.0        0.0        128.0.0   \n",
      "2  128.0.0.2           0.0         0.0        0.0        128.0.0   \n",
      "3  128.0.0.3           0.0         0.0        0.0        128.0.0   \n",
      "4  128.0.0.4           0.0         0.0        0.0        128.0.0   \n",
      "\n",
      "   final_block_size  \n",
      "0               256  \n",
      "1               256  \n",
      "2               256  \n",
      "3               256  \n",
      "4               256  \n"
     ]
    }
   ],
   "source": [
    "block_metrics_2023 = process_all_blocks(metrics_2023, ip_col='probe_addr_2023', block_col='block_24', initial_prefix=24, epsilon=2.0)\n",
    "print(\"Processed consistent blocks for 2023:\")\n",
    "print(block_metrics_2023[['probe_addr', 'availability', 'volatility', 'median_up', 'original_block', 'final_block_size']].head())"
   ]
  },
  {
   "cell_type": "code",
   "execution_count": 40,
   "id": "5cbe864b-46f4-4558-98a8-e2f59518434d",
   "metadata": {},
   "outputs": [],
   "source": [
    "block_metrics_2023.to_csv('block_metrics_2023_new.csv', index=False)"
   ]
  },
  {
   "cell_type": "markdown",
   "id": "8747b643-ae2b-4eef-aeae-7649793c65a5",
   "metadata": {},
   "source": [
    "## 5. Ping-Observable Classification"
   ]
  },
  {
   "cell_type": "markdown",
   "id": "c7bb5598-6a8f-4dbd-b841-9fd2beb6de94",
   "metadata": {},
   "source": [
    "### Not ML"
   ]
  },
  {
   "cell_type": "code",
   "execution_count": 56,
   "id": "6069857f-51a1-41d5-9c23-391129e96a1c",
   "metadata": {},
   "outputs": [],
   "source": [
    "def classify_block(row):\n",
    "    alphaH = 0.95\n",
    "    alphaL = 0.10\n",
    "    gamma = 6 * 3600\n",
    "    \n",
    "    if row['availability'] == 0:\n",
    "        return \"Unclassifiable\"\n",
    "    \n",
    "    if row['availability'] < alphaL:\n",
    "        return \"Underutilized\"\n",
    "    \n",
    "    if row['availability'] >= alphaH and row['volatility'] <= 1:\n",
    "        return \"Always-stable\"\n",
    "    \n",
    "    if row['availability'] >= alphaL and row['availability'] < alphaH and row['median_up'] >= gamma:\n",
    "        return \"Sometimes-stable\"\n",
    "    \n",
    "    if row['availability'] >= alphaL and row['availability'] < alphaH and row['median_up'] < gamma:\n",
    "        return \"Intermittent\"\n",
    "    \n",
    "    return \"Unclassifiable\""
   ]
  },
  {
   "cell_type": "markdown",
   "id": "8958b009-ad91-4842-8039-5a33687c48d2",
   "metadata": {},
   "source": [
    "### 2013"
   ]
  },
  {
   "cell_type": "code",
   "execution_count": 57,
   "id": "9ac4c8df-430e-49f7-99f4-ce591b539f82",
   "metadata": {},
   "outputs": [
    {
     "name": "stdout",
     "output_type": "stream",
     "text": [
      "Block-level ping-observable classification for 2013:\n",
      "  block_24  availability  volatility  median_up   ping_category\n",
      "0  128.0.0           0.0         0.0        0.0  Unclassifiable\n",
      "1  128.0.0           0.0         0.0        0.0  Unclassifiable\n",
      "2  128.0.0           0.0         0.0        0.0  Unclassifiable\n",
      "3  128.0.0           0.0         0.0        0.0  Unclassifiable\n",
      "4  128.0.0           0.0         0.0        0.0  Unclassifiable\n"
     ]
    }
   ],
   "source": [
    "block_metrics_2013['ping_category'] = block_metrics_2013.apply(classify_block, axis=1)\n",
    "print(\"Block-level ping-observable classification for 2013:\")\n",
    "print(block_metrics_2013[['block_24', 'availability', 'volatility', 'median_up', 'ping_category']].head())"
   ]
  },
  {
   "cell_type": "code",
   "execution_count": 63,
   "id": "8d9462c3-003a-44dd-a1c3-40110d052a5c",
   "metadata": {},
   "outputs": [
    {
     "name": "stdout",
     "output_type": "stream",
     "text": [
      "Counts per category:\n",
      "ping_category\n",
      "Unclassifiable    16098209\n",
      "Always-stable       613299\n",
      "Intermittent           142\n",
      "Underutilized            3\n",
      "Name: count, dtype: int64\n"
     ]
    }
   ],
   "source": [
    "category_counts_2013 = block_metrics_2013['ping_category'].value_counts()\n",
    "print(\"Counts per category:\")\n",
    "print(category_counts_2013)"
   ]
  },
  {
   "cell_type": "code",
   "execution_count": 64,
   "id": "dd6ffbc9-0c3f-4a13-9924-cbf75e8c3d18",
   "metadata": {},
   "outputs": [
    {
     "name": "stdout",
     "output_type": "stream",
     "text": [
      "\n",
      "Proportions per category:\n",
      "ping_category\n",
      "Unclassifiable    9.632924e-01\n",
      "Always-stable     3.669888e-02\n",
      "Intermittent      8.497065e-06\n",
      "Underutilized     1.795155e-07\n",
      "Name: proportion, dtype: float64\n"
     ]
    }
   ],
   "source": [
    "category_proportions_2013 = block_metrics_2013['ping_category'].value_counts(normalize=True)\n",
    "print(\"\\nProportions per category:\")\n",
    "print(category_proportions_2013)"
   ]
  },
  {
   "cell_type": "code",
   "execution_count": 65,
   "id": "1b415319-6edf-4fb6-af32-51fb0c9cb3a5",
   "metadata": {},
   "outputs": [
    {
     "data": {
      "image/png": "[encoded data removed]",
      "text/plain": [
       "<Figure size 640x480 with 1 Axes>"
      ]
     },
     "metadata": {},
     "output_type": "display_data"
    }
   ],
   "source": [
    "category_proportions_2013.plot(kind='bar', color='skyblue')\n",
    "plt.title(\"Proportion of Ping-Observable Categories (2013)\")\n",
    "plt.xlabel(\"Ping Category\")\n",
    "plt.ylabel(\"Proportion\")\n",
    "plt.show()"
   ]
  },
  {
   "cell_type": "markdown",
   "id": "15eb7b26-048b-4085-8598-0f8fe0b2075f",
   "metadata": {},
   "source": [
    "### 2023"
   ]
  },
  {
   "cell_type": "code",
   "execution_count": 58,
   "id": "7a84b002-efe3-4007-8c4d-06d2a6c84faa",
   "metadata": {},
   "outputs": [
    {
     "name": "stdout",
     "output_type": "stream",
     "text": [
      "Block-level ping-observable classification for 2023:\n",
      "  block_24  availability  volatility  median_up   ping_category\n",
      "0  128.0.0           0.0         0.0        0.0  Unclassifiable\n",
      "1  128.0.0           0.0         0.0        0.0  Unclassifiable\n",
      "2  128.0.0           0.0         0.0        0.0  Unclassifiable\n",
      "3  128.0.0           0.0         0.0        0.0  Unclassifiable\n",
      "4  128.0.0           0.0         0.0        0.0  Unclassifiable\n"
     ]
    }
   ],
   "source": [
    "block_metrics_2023['ping_category'] = block_metrics_2023.apply(classify_block, axis=1)\n",
    "print(\"Block-level ping-observable classification for 2023:\")\n",
    "print(block_metrics_2023[['block_24', 'availability', 'volatility', 'median_up', 'ping_category']].head())"
   ]
  },
  {
   "cell_type": "code",
   "execution_count": 66,
   "id": "0bbf30d8-5b51-4a75-a0c1-19b9a837fd8b",
   "metadata": {},
   "outputs": [
    {
     "name": "stdout",
     "output_type": "stream",
     "text": [
      "Counts per category:\n",
      "ping_category\n",
      "Unclassifiable    16255065\n",
      "Always-stable       520461\n",
      "Intermittent          1260\n",
      "Underutilized          428\n",
      "Name: count, dtype: int64\n"
     ]
    }
   ],
   "source": [
    "category_counts_2023 = block_metrics_2023['ping_category'].value_counts()\n",
    "print(\"Counts per category:\")\n",
    "print(category_counts_2023)"
   ]
  },
  {
   "cell_type": "code",
   "execution_count": 67,
   "id": "a3387ce5-a972-455a-899c-6279042b4221",
   "metadata": {},
   "outputs": [
    {
     "name": "stdout",
     "output_type": "stream",
     "text": [
      "\n",
      "Proportions per category:\n",
      "ping_category\n",
      "Unclassifiable    0.968877\n",
      "Always-stable     0.031022\n",
      "Intermittent      0.000075\n",
      "Underutilized     0.000026\n",
      "Name: proportion, dtype: float64\n"
     ]
    }
   ],
   "source": [
    "category_proportions_2023 = block_metrics_2023['ping_category'].value_counts(normalize=True)\n",
    "print(\"\\nProportions per category:\")\n",
    "print(category_proportions_2023)"
   ]
  },
  {
   "cell_type": "code",
   "execution_count": 68,
   "id": "acc05d81-ff18-4d97-99ca-2a623e22363d",
   "metadata": {},
   "outputs": [
    {
     "data": {
      "image/png": "[encoded data removed]",
      "text/plain": [
       "<Figure size 640x480 with 1 Axes>"
      ]
     },
     "metadata": {},
     "output_type": "display_data"
    }
   ],
   "source": [
    "category_proportions_2023.plot(kind='bar', color='skyblue')\n",
    "plt.title(\"Proportion of Ping-Observable Categories (2023)\")\n",
    "plt.xlabel(\"Ping Category\")\n",
    "plt.ylabel(\"Proportion\")\n",
    "plt.show()"
   ]
  },
  {
   "cell_type": "markdown",
   "id": "f74e0b27-54da-48e4-8c9b-8fcf257b640a",
   "metadata": {},
   "source": [
    "## ML"
   ]
  },
  {
   "cell_type": "code",
   "execution_count": 101,
   "id": "1109a7fb-e6d9-41d4-a84b-e1087e9d011a",
   "metadata": {},
   "outputs": [],
   "source": [
    "def classify_blocks_ml(blocks_df):\n",
    "    \"\"\"\n",
    "    Classify blocks entirely via clustering (ML-based) for blocks with availability >= 0.2.\n",
    "    Blocks with availability < 0.2 are labeled as 'inactive'.\n",
    "    \n",
    "    The active blocks are clustered into 4 groups using all three features:\n",
    "       - availability (as a fraction, 0–1)\n",
    "       - volatility\n",
    "       - median_up (in seconds)\n",
    "    \n",
    "    After clustering, we automatically assign provisional labels based on the \n",
    "    cluster centers. For example, the cluster with the highest average availability \n",
    "    may be interpreted as \"always-active\" and the one with the lowest as \"underutilized\".\n",
    "    \n",
    "    Parameters:\n",
    "       blocks_df: DataFrame containing block-level metrics with columns:\n",
    "          'availability', 'volatility', 'median_up', and (optionally) others.\n",
    "    \n",
    "    Returns:\n",
    "       all_classified: DataFrame with an added 'category' column.\n",
    "       centers: DataFrame of the cluster centers (in original feature space).\n",
    "    \"\"\"\n",
    "    active_blocks = blocks_df[blocks_df['availability'] >= 0.2].copy()\n",
    "    inactive_blocks = blocks_df[blocks_df['availability'] < 0.2].copy()\n",
    "    inactive_blocks['category'] = 'unclassifiable'\n",
    "    \n",
    "    X = active_blocks[['availability', 'volatility', 'median_up']].values\n",
    "    \n",
    "    scaler = StandardScaler()\n",
    "    X_scaled = scaler.fit_transform(X)\n",
    "    \n",
    "    kmeans = KMeans(n_clusters=4, random_state=6)\n",
    "    active_blocks['cluster_id'] = kmeans.fit_predict(X_scaled)\n",
    "    \n",
    "    centers = pd.DataFrame(\n",
    "        scaler.inverse_transform(kmeans.cluster_centers_),\n",
    "        columns=['availability', 'volatility', 'median_up']\n",
    "    )\n",
    "    \n",
    "    mapping = {}\n",
    "    \n",
    "    sorted_by_avail = centers.sort_values(by='availability', ascending=False)\n",
    "    mapping[sorted_by_avail.index[0]] = 'always-active'\n",
    "    mapping[sorted_by_avail.index[-1]] = 'underutilized'\n",
    "    \n",
    "    overall_median_up = active_blocks['median_up'].median()\n",
    "    for cid in sorted_by_avail.index[1:-1]:\n",
    "        if centers.loc[cid, 'median_up'] >= overall_median_up:\n",
    "            mapping[cid] = 'sometimes-active'\n",
    "        else:\n",
    "            mapping[cid] = 'intermittent'\n",
    "    \n",
    "    active_blocks['category'] = active_blocks['cluster_id'].map(mapping)\n",
    "\n",
    "    all_classified = pd.concat([active_blocks, inactive_blocks])\n",
    "    \n",
    "    return all_classified, centers"
   ]
  },
  {
   "cell_type": "markdown",
   "id": "0a904216-5ad0-4f16-a61f-f4934818cf6a",
   "metadata": {},
   "source": [
    "Automatically assign provisional labels based on cluster centers.\n",
    "One simple approach is:\n",
    "- Cluster with highest availability → \"always-active\"\n",
    "- Cluster with lowest availability → \"underutilized\"\n",
    "- For the two remaining clusters, use the median_up value:\n",
    "  - If median_up is high (≥ median of all active blocks), label as \"sometimes-active\"\n",
    "  - Otherwise, label as \"intermittent\""
   ]
  },
  {
   "cell_type": "markdown",
   "id": "7c1388cd-5ac9-4991-91f7-342284cf25c8",
   "metadata": {},
   "source": [
    "### 2013"
   ]
  },
  {
   "cell_type": "code",
   "execution_count": null,
   "id": "f2bb34bf-4543-4e72-b26e-f1822dc07b79",
   "metadata": {},
   "outputs": [],
   "source": [
    "classified_blocks_2013, centers_2013 = classify_blocks(block_metrics_2013)\n",
    "print(\"Classified 2013 Blocks:\")\n",
    "print(classified_blocks_2013[['probe_addr', 'availability', 'volatility', 'median_up', 'original_block', 'final_block_size', 'category']].head())"
   ]
  },
  {
   "cell_type": "code",
   "execution_count": 124,
   "id": "16291ac7-b462-4faf-b5a0-d9d1d7e9e0f9",
   "metadata": {},
   "outputs": [
    {
     "name": "stdout",
     "output_type": "stream",
     "text": [
      "category\n",
      "unclassifiable    0.963301\n",
      "always-stable     0.036699\n",
      "Name: proportion, dtype: float64\n"
     ]
    }
   ],
   "source": [
    "print(classified_blocks_2013['category'].value_counts(normalize=True))"
   ]
  },
  {
   "cell_type": "markdown",
   "id": "1fe27f87-d360-4df0-82d8-60620990973b",
   "metadata": {},
   "source": [
    "### 2023"
   ]
  },
  {
   "cell_type": "code",
   "execution_count": null,
   "id": "eacb33c5-c94e-4740-ae4b-5aa017cf953a",
   "metadata": {},
   "outputs": [],
   "source": [
    "classified_blocks_2023, centers_2023 = classify_blocks(block_metrics_2023)\n",
    "print(\"Classified 2023 Blocks:\")\n",
    "print(classified_blocks_2023[['probe_addr', 'availability', 'volatility', 'median_up', 'original_block', 'final_block_size', 'category']].head())"
   ]
  },
  {
   "cell_type": "code",
   "execution_count": null,
   "id": "2f24e1f8-2eef-40bd-87a7-b67978130b0e",
   "metadata": {},
   "outputs": [],
   "source": [
    "print(classified_blocks_2023['category'].value_counts(normalize=True))"
   ]
  }
 ],
 "metadata": {
  "kernelspec": {
   "display_name": "Python 3 (ipykernel)",
   "language": "python",
   "name": "python3"
  },
  "language_info": {
   "codemirror_mode": {
    "name": "ipython",
    "version": 3
   },
   "file_extension": ".py",
   "mimetype": "text/x-python",
   "name": "python",
   "nbconvert_exporter": "python",
   "pygments_lexer": "ipython3",
   "version": "3.11.8"
  }
 },
 "nbformat": 4,
 "nbformat_minor": 5
}
